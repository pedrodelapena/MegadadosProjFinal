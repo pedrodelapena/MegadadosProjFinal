{
 "cells": [
  {
   "cell_type": "code",
   "execution_count": 3,
   "metadata": {},
   "outputs": [
    {
     "name": "stdout",
     "output_type": "stream",
     "text": [
      "We're done! 100\n"
     ]
    }
   ],
   "source": [
    "#100 amostras de sites que tinham \"receita\" em algum lugar\n",
    "#aqui julgamos manualmente se o site em questão é de receita ou não\n",
    "#a partir disto, criamos uma mascara de booleanas e a exportamos para um .txt\n",
    "#assim, no spark foi possível utilizar a mascara para treinar o algorítmo de machine learning...\n",
    "\n",
    "from IPython.display import clear_output\n",
    "import time\n",
    "\n",
    "coalesc = open(\"receitasCoal.txt\", \"r\") #carregando as 100 samples\n",
    "boolmask = open(\"boolmask.txt\", \"w\") #arquivo de saida\n",
    "counter = 0 #apenas um indicador visual para quem está fazendo a análise dos sites (max 100)\n",
    "\n",
    "for i in coalesc: \n",
    "    print(i)\n",
    "    x = input(str(counter) + \" Fala ae men \") #determinando manualmente se o site é de receita ou não\n",
    "    if x == 'y': #se for...\n",
    "        boolmask.write(\"1\") #1 na máscara\n",
    "        clear_output() #limpando output para não poluir notebook\n",
    "        counter += 1\n",
    "        time.sleep(0.2)\n",
    "    elif x == 'n': #se não for ...\n",
    "        boolmask.write(\"0\") #0 na máscara\n",
    "        clear_output()\n",
    "        counter += 1\n",
    "        time.sleep(0.2)\n",
    "    elif x == 'xx': #caso queira parar\n",
    "        break\n",
    "    else: #para não arquivo\n",
    "        counter += 1\n",
    "        print(\"skip\")\n",
    "            \n",
    "        \n",
    "clear_output()\n",
    "print(\"We're done! \" + str(counter))\n",
    "\n",
    "boolmask.close()\n",
    "coalesc.close()"
   ]
  },
  {
   "cell_type": "code",
   "execution_count": null,
   "metadata": {},
   "outputs": [],
   "source": [
    "#a ideia era a mesma, porém com 1000 amostras aleatórias, a lista seria percorrida automaticamente\n",
    "#atéa palavra \"ingrediente\", \"receita\" ou \"preparo\" ser encontrada, desta forma o usuario que está filtrando\n",
    "#pode julgar se o site é realmente de receitas ou não\n",
    "\n",
    "from IPython.display import clear_output\n",
    "import time\n",
    "\n",
    "coalesc = open(\"notReceitas.txt\", \"r\")\n",
    "recfilt = open(\"theseAreRecipes.txt\", \"w\")\n",
    "notrecfilt = open(\"WTF.txt\", \"w\")\n",
    "counter = 0\n",
    "\n",
    "for i in coalesc:\n",
    "    lowered = i.lower()\n",
    "    \n",
    "    if ((\"ingrediente\" in lowered) or (\"receita\" in lowered) or (\"preparo\" in lowered)):\n",
    "        print(i)\n",
    "        x = input(str(counter) + \" Fala ae men \")\n",
    "        if x == 'y':\n",
    "            recfilt.write(i)\n",
    "            clear_output()\n",
    "            counter += 1\n",
    "            time.sleep(0.2)\n",
    "        elif x == 'n':\n",
    "            notrecfilt.write(i)\n",
    "            clear_output()\n",
    "            counter += 1\n",
    "            time.sleep(0.2)\n",
    "        elif x == 'xx':\n",
    "            break\n",
    "        else:\n",
    "            counter += 1\n",
    "            print(\"skip\")\n",
    "            \n",
    "    else:\n",
    "        print(counter)\n",
    "        clear_output()\n",
    "        notrecfilt.write(i)\n",
    "        counter += 1\n",
    "        time.sleep(0.05)\n",
    "        \n",
    "clear_output()\n",
    "print(\"We're done! \" + str(counter))\n",
    "\n",
    "recfilt.close()\n",
    "notrecfilt.close()\n",
    "coalesc.close()"
   ]
  },
  {
   "cell_type": "code",
   "execution_count": null,
   "metadata": {},
   "outputs": [],
   "source": [
    "#in case you kill our beloved kernel for nothing\n",
    "\n",
    "recfilt.close()\n",
    "notrecfilt.close()\n",
    "coalesc.close()"
   ]
  },
  {
   "cell_type": "code",
   "execution_count": null,
   "metadata": {},
   "outputs": [],
   "source": []
  }
 ],
 "metadata": {
  "kernelspec": {
   "display_name": "Python 3",
   "language": "python",
   "name": "python3"
  },
  "language_info": {
   "codemirror_mode": {
    "name": "ipython",
    "version": 3
   },
   "file_extension": ".py",
   "mimetype": "text/x-python",
   "name": "python",
   "nbconvert_exporter": "python",
   "pygments_lexer": "ipython3",
   "version": "3.6.6"
  }
 },
 "nbformat": 4,
 "nbformat_minor": 2
}
